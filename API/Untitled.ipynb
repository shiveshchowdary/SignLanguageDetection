{
 "cells": [
  {
   "cell_type": "code",
   "execution_count": 6,
   "metadata": {},
   "outputs": [],
   "source": [
    "import cv2\n",
    "import mediapipe as mp\n",
    "\n",
    "# Set up the video capture device\n",
    "cap = cv2.VideoCapture(0)\n",
    "\n",
    "# Set up Mediapipe Hand Detection\n",
    "mp_hands = mp.solutions.hands\n",
    "hands = mp_hands.Hands(static_image_mode=False, max_num_hands=1, min_detection_confidence=0.7, min_tracking_confidence=0.5)\n",
    "\n",
    "while True:\n",
    "    # Read a frame from the video capture device\n",
    "    ret, frame = cap.read()\n",
    "\n",
    "    # Check if the frame is None\n",
    "    if frame is None:\n",
    "        continue\n",
    "\n",
    "    # Convert the frame to RGB for Mediapipe\n",
    "    frame = cv2.cvtColor(frame, cv2.COLOR_BGR2RGB)\n",
    "\n",
    "    # Process the frame with Mediapipe Hand Detection\n",
    "    results = hands.process(frame)\n",
    "\n",
    "    # Draw a rectangle around the hand region\n",
    "    if results.multi_hand_landmarks:\n",
    "        for hand_landmarks in results.multi_hand_landmarks:\n",
    "            x_min, y_min, x_max, y_max = 1, 1, 0, 0\n",
    "            for lm in hand_landmarks.landmark:\n",
    "                x, y = int(lm.x * frame.shape[1]), int(lm.y * frame.shape[0])\n",
    "                if x < x_min: x_min = x\n",
    "                if y < y_min: y_min = y\n",
    "                if x > x_max: x_max = x\n",
    "                if y > y_max: y_max = y\n",
    "\n",
    "            cv2.rectangle(frame, (x_min, y_min), (x_max, y_max), (0, 255, 0), 2)\n",
    "            # crop the hand image\n",
    "            hand_image = frame[y_min:y_max, x_min:x_max]\n",
    "\n",
    "    # Display the captured frame\n",
    "    cv2.imshow('Hand detection', frame)\n",
    "\n",
    "    # Wait for the 'q' key to be pressed to exit the loop\n",
    "    if cv2.waitKey(1) == ord('q'):\n",
    "        break\n",
    "\n",
    "# Release the video capture device and close all windows\n",
    "cap.release()\n",
    "cv2.destroyAllWindows()\n"
   ]
  },
  {
   "cell_type": "code",
   "execution_count": 7,
   "metadata": {},
   "outputs": [
    {
     "data": {
      "text/plain": [
       "97"
      ]
     },
     "execution_count": 7,
     "metadata": {},
     "output_type": "execute_result"
    }
   ],
   "source": [
    "ord('a')"
   ]
  },
  {
   "cell_type": "code",
   "execution_count": 8,
   "metadata": {},
   "outputs": [
    {
     "data": {
      "text/plain": [
       "'a'"
      ]
     },
     "execution_count": 8,
     "metadata": {},
     "output_type": "execute_result"
    }
   ],
   "source": [
    "chr(97)"
   ]
  },
  {
   "cell_type": "code",
   "execution_count": null,
   "metadata": {},
   "outputs": [],
   "source": []
  }
 ],
 "metadata": {
  "kernelspec": {
   "display_name": "Python 3",
   "language": "python",
   "name": "python3"
  },
  "language_info": {
   "codemirror_mode": {
    "name": "ipython",
    "version": 3
   },
   "file_extension": ".py",
   "mimetype": "text/x-python",
   "name": "python",
   "nbconvert_exporter": "python",
   "pygments_lexer": "ipython3",
   "version": "3.8.5"
  }
 },
 "nbformat": 4,
 "nbformat_minor": 4
}
