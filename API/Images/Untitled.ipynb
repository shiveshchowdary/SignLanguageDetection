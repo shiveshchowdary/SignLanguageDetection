{
 "cells": [
  {
   "cell_type": "code",
   "execution_count": 1,
   "metadata": {},
   "outputs": [],
   "source": [
    "import os\n",
    "import cv2\n",
    "from PIL import Image"
   ]
  },
  {
   "cell_type": "code",
   "execution_count": 6,
   "metadata": {},
   "outputs": [
    {
     "name": "stdout",
     "output_type": "stream",
     "text": [
      "C:\\Users\\charan sai\\Documents\\semesters\\Sem - 8\\NLP\\PostMidSem\\API\\Images\n",
      "6970 6970\n",
      "a.png  is resized\n",
      "6970 6970\n",
      "b.png  is resized\n",
      "6970 6970\n",
      "c.png  is resized\n",
      "6970 6970\n",
      "d.png  is resized\n",
      "6970 6970\n",
      "e.png  is resized\n",
      "6970 6970\n",
      "f.png  is resized\n",
      "6970 6970\n",
      "g.png  is resized\n",
      "6970 6970\n",
      "h.png  is resized\n",
      "780 780\n",
      "i.png  is resized\n",
      "780 780\n",
      "j0000.png  is resized\n",
      "780 780\n",
      "j0001.png  is resized\n",
      "780 780\n",
      "j0002.png  is resized\n",
      "780 780\n",
      "k.png  is resized\n",
      "780 780\n",
      "l.png  is resized\n",
      "780 780\n",
      "m.png  is resized\n",
      "780 780\n",
      "n.png  is resized\n",
      "780 780\n",
      "o.png  is resized\n",
      "780 780\n",
      "p.png  is resized\n",
      "780 780\n",
      "q.png  is resized\n",
      "780 780\n",
      "r.png  is resized\n",
      "780 780\n",
      "s.png  is resized\n",
      "780 780\n",
      "t.png  is resized\n",
      "780 780\n",
      "u.png  is resized\n",
      "780 780\n",
      "v.png  is resized\n",
      "780 780\n",
      "w.png  is resized\n",
      "780 780\n",
      "x.png  is resized\n",
      "780 780\n",
      "y.png  is resized\n",
      "780 780\n",
      "z0001.png  is resized\n",
      "780 780\n",
      "z0002.png  is resized\n",
      "780 780\n",
      "z0003.png  is resized\n",
      "780 780\n",
      "z0004.png  is resized\n",
      "780 780\n",
      "z0005.png  is resized\n",
      "780 780\n",
      "z0006.png  is resized\n"
     ]
    }
   ],
   "source": [
    "import os\n",
    "import cv2\n",
    "from PIL import Image\n",
    "\n",
    "print(os.getcwd())\n",
    "\n",
    "os.chdir(\"C:\\\\Users\\\\charan sai\\\\Documents\\\\semesters\\\\Sem - 8\\\\NLP\\\\PostMidSem\\\\API\\\\Images\")\n",
    "path = \"C:\\\\Users\\\\charan sai\\\\Documents\\\\semesters\\\\Sem - 8\\\\NLP\\\\PostMidSem\\\\API\\\\Images\"\n",
    "\n",
    "# mean_height = 0\n",
    "# mean_width = 0\n",
    "\n",
    "# num_of_images = len(os.listdir('.'))\n",
    "\n",
    "# for file in os.listdir('.'):\n",
    "#     if file.endswith(\".jpg\") or file.endswith(\".jpeg\") or file.endswith(\"png\"):\n",
    "#         im = Image.open(os.path.join(path, file))\n",
    "#         width, height = im.size\n",
    "#         mean_width += width\n",
    "#         mean_height += height\n",
    "# mean_width = int(mean_width / num_of_images)\n",
    "# mean_height = int(mean_height / num_of_images)\n",
    "for file in os.listdir('.'):\n",
    "\tif file.endswith(\".jpg\") or file.endswith(\".jpeg\") or file.endswith(\"png\"):\n",
    "\t\tim = Image.open(os.path.join(path, file))\n",
    "\t\twidth, height = im.size\n",
    "\t\tprint(width, height)\n",
    "\t\timResize = im.resize((390 , 390), Image.ANTIALIAS)\n",
    "\t\timResize.save( file, 'JPEG', quality = 95) \n",
    "\t\tprint(im.filename.split('\\\\')[-1], \" is resized\")\n"
   ]
  },
  {
   "cell_type": "code",
   "execution_count": 15,
   "metadata": {},
   "outputs": [
    {
     "name": "stdout",
     "output_type": "stream",
     "text": [
      "['a.png', 'a.png', 'a.png', 'a.png', 'a.png', 'a.png', 'b.png', 'b.png', 'b.png', 'b.png', 'b.png', 'b.png', 'j0000.png', 'j0000.png', 'j0001.png', 'j0001.png', 'j0002.png', 'j0002.png', 'z0001.png', 'z0002.png', 'z0003.png', 'z0004.png', 'z0005.png', 'z0006.png']\n"
     ]
    }
   ],
   "source": [
    "def fetch_img(S):\n",
    "    S = S.lower()\n",
    "    images = []\n",
    "    for i in S:\n",
    "        if i >= 'a' and i <= 'z':\n",
    "            if i != 'j' and i != 'z':\n",
    "                for j in range(6):\n",
    "                    images.append(i+'.png')\n",
    "            elif i == 'j':\n",
    "                for j in range(3):\n",
    "                    for z in range(2):\n",
    "                        images.append(i+'000'+str(j)+'.png')\n",
    "            else:\n",
    "                for j in range(1,7):\n",
    "                    images.append(i+'000'+str(j)+'.png')\n",
    "\n",
    "    return images\n",
    "\n",
    "\n",
    "def generate_video(S):\n",
    "    image_folder = 'C:\\\\Users\\\\charan sai\\\\Documents\\\\semesters\\\\Sem - 8\\\\NLP\\\\PostMidSem\\\\API\\\\Images' \n",
    "    video_name = \"C:\\\\Users\\\\charan sai\\\\Documents\\\\semesters\\\\Sem - 8\\\\NLP\\\\PostMidSem\\\\API\\\\templates\\\\vid\\\\Video.mp4\"\n",
    "    images = fetch_img(S)\n",
    "    print(images)\n",
    "    frame = cv2.imread(os.path.join(image_folder, images[0]))\n",
    "    height, width, layers = frame.shape\n",
    "\n",
    "    video = cv2.VideoWriter(video_name, 0, 6, (width, height))\n",
    "    for image in images:\n",
    "        video.write(cv2.imread(os.path.join(image_folder, image)))\n",
    "    cv2.destroyAllWindows()\n",
    "    video.release()\n",
    "generate_video(\"AbjZ\")"
   ]
  },
  {
   "cell_type": "code",
   "execution_count": 39,
   "metadata": {},
   "outputs": [
    {
     "ename": "NameError",
     "evalue": "name 'video' is not defined",
     "output_type": "error",
     "traceback": [
      "\u001b[1;31m---------------------------------------------------------------------------\u001b[0m",
      "\u001b[1;31mNameError\u001b[0m                                 Traceback (most recent call last)",
      "\u001b[1;32m<ipython-input-39-0be89da010b9>\u001b[0m in \u001b[0;36m<module>\u001b[1;34m\u001b[0m\n\u001b[0;32m      1\u001b[0m \u001b[0mcv2\u001b[0m\u001b[1;33m.\u001b[0m\u001b[0mdestroyAllWindows\u001b[0m\u001b[1;33m(\u001b[0m\u001b[1;33m)\u001b[0m\u001b[1;33m\u001b[0m\u001b[1;33m\u001b[0m\u001b[0m\n\u001b[1;32m----> 2\u001b[1;33m \u001b[0mvideo\u001b[0m\u001b[1;33m.\u001b[0m\u001b[0mrelease\u001b[0m\u001b[1;33m(\u001b[0m\u001b[1;33m)\u001b[0m\u001b[1;33m\u001b[0m\u001b[1;33m\u001b[0m\u001b[0m\n\u001b[0m",
      "\u001b[1;31mNameError\u001b[0m: name 'video' is not defined"
     ]
    }
   ],
   "source": [
    "cv2.destroyAllWindows()\n",
    "video.release()"
   ]
  },
  {
   "cell_type": "code",
   "execution_count": 23,
   "metadata": {},
   "outputs": [
    {
     "ename": "error",
     "evalue": "OpenCV(4.5.5) D:\\bld\\libopencv_1646358771314\\work\\modules\\imgproc\\src\\resize.cpp:4052: error: (-215:Assertion failed) !ssize.empty() in function 'cv::resize'\n",
     "output_type": "error",
     "traceback": [
      "\u001b[1;31m---------------------------------------------------------------------------\u001b[0m",
      "\u001b[1;31merror\u001b[0m                                     Traceback (most recent call last)",
      "\u001b[1;32m<ipython-input-23-b54fb13ee265>\u001b[0m in \u001b[0;36m<module>\u001b[1;34m\u001b[0m\n\u001b[0;32m     22\u001b[0m \u001b[1;33m\u001b[0m\u001b[0m\n\u001b[0;32m     23\u001b[0m         \u001b[1;31m# Resize the image frames\u001b[0m\u001b[1;33m\u001b[0m\u001b[1;33m\u001b[0m\u001b[1;33m\u001b[0m\u001b[0m\n\u001b[1;32m---> 24\u001b[1;33m         \u001b[0mresize\u001b[0m \u001b[1;33m=\u001b[0m \u001b[0mcv2\u001b[0m\u001b[1;33m.\u001b[0m\u001b[0mresize\u001b[0m\u001b[1;33m(\u001b[0m\u001b[0mimage\u001b[0m\u001b[1;33m,\u001b[0m \u001b[1;33m(\u001b[0m\u001b[1;36m780\u001b[0m\u001b[1;33m,\u001b[0m \u001b[1;36m780\u001b[0m\u001b[1;33m)\u001b[0m\u001b[1;33m)\u001b[0m\u001b[1;33m\u001b[0m\u001b[1;33m\u001b[0m\u001b[0m\n\u001b[0m\u001b[0;32m     25\u001b[0m \u001b[1;33m\u001b[0m\u001b[0m\n\u001b[0;32m     26\u001b[0m         \u001b[1;31m# Saving the frames with certain names\u001b[0m\u001b[1;33m\u001b[0m\u001b[1;33m\u001b[0m\u001b[1;33m\u001b[0m\u001b[0m\n",
      "\u001b[1;31merror\u001b[0m: OpenCV(4.5.5) D:\\bld\\libopencv_1646358771314\\work\\modules\\imgproc\\src\\resize.cpp:4052: error: (-215:Assertion failed) !ssize.empty() in function 'cv::resize'\n"
     ]
    }
   ],
   "source": [
    "# Python program to resize frame's\n",
    "# from video with aspect ratio\n",
    "\n",
    "# Import the libraries\n",
    "import cv2\n",
    "\n",
    "# Define a video capture object\n",
    "vidcap = cv2.VideoCapture(\"z.mp4\")\n",
    "\n",
    "# Capture video frame by frame\n",
    "success, image = vidcap.read()\n",
    "\n",
    "# Declare the variable with value 0\n",
    "count = 0\n",
    "\n",
    "# Creating a loop for running the video\n",
    "# and saving all the frames\n",
    "while success:\n",
    "\n",
    "\t# Capture video frame by frame\n",
    "\tsuccess, image = vidcap.read()\n",
    "\n",
    "\t# Resize the image frames\n",
    "\tresize = cv2.resize(image, (780, 780))\n",
    "\n",
    "\t# Saving the frames with certain names\n",
    "\tcv2.imwrite(\"z%04d.png\" % count, resize)\n",
    "\n",
    "\t# Closing the video by Escape button\n",
    "\tif cv2.waitKey(10) == 27:\n",
    "\t\tbreak\n",
    "\n",
    "\t# Incrementing the variable value by 1\n",
    "\tcount += 1\n"
   ]
  },
  {
   "cell_type": "code",
   "execution_count": 14,
   "metadata": {},
   "outputs": [
    {
     "name": "stdout",
     "output_type": "stream",
     "text": [
      "^C\n"
     ]
    }
   ],
   "source": [
    "!pip install moviepy"
   ]
  },
  {
   "cell_type": "code",
   "execution_count": null,
   "metadata": {},
   "outputs": [],
   "source": []
  }
 ],
 "metadata": {
  "kernelspec": {
   "display_name": "Python 3",
   "language": "python",
   "name": "python3"
  },
  "language_info": {
   "codemirror_mode": {
    "name": "ipython",
    "version": 3
   },
   "file_extension": ".py",
   "mimetype": "text/x-python",
   "name": "python",
   "nbconvert_exporter": "python",
   "pygments_lexer": "ipython3",
   "version": "3.8.5"
  }
 },
 "nbformat": 4,
 "nbformat_minor": 4
}
