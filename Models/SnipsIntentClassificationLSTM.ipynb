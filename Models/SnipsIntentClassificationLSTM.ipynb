{
  "nbformat": 4,
  "nbformat_minor": 0,
  "metadata": {
    "colab": {
      "provenance": []
    },
    "kernelspec": {
      "name": "python3",
      "display_name": "Python 3"
    },
    "language_info": {
      "name": "python"
    },
    "gpuClass": "standard"
  },
  "cells": [
    {
      "cell_type": "code",
      "execution_count": null,
      "metadata": {
        "colab": {
          "base_uri": "https://localhost:8080/"
        },
        "id": "CoPWEQr2fd7C",
        "outputId": "aa8e1f0f-43ad-4e38-d5bb-1510c7d47f23"
      },
      "outputs": [
        {
          "output_type": "stream",
          "name": "stdout",
          "text": [
            "fatal: destination path 'JointBERT' already exists and is not an empty directory.\n"
          ]
        }
      ],
      "source": [
        "!git clone https://github.com/monologg/JointBERT.git"
      ]
    },
    {
      "cell_type": "code",
      "source": [
        "def read_data(file_name):\n",
        "  my_file  = open(file_name,'r')\n",
        "  data = my_file.read()\n",
        "  result = data.split(\"\\n\")\n",
        "  my_file.close()\n",
        "  return result"
      ],
      "metadata": {
        "id": "GadiLl8QhYwU"
      },
      "execution_count": null,
      "outputs": []
    },
    {
      "cell_type": "code",
      "source": [
        "train_text = read_data('/content/JointBERT/data/snips/train/seq.in')\n",
        "train_label = read_data('/content/JointBERT/data/snips/train/label')"
      ],
      "metadata": {
        "id": "4Lim5QdAhrye"
      },
      "execution_count": null,
      "outputs": []
    },
    {
      "cell_type": "code",
      "source": [
        "dev_text = read_data('/content/JointBERT/data/snips/dev/seq.in')\n",
        "dev_label = read_data('/content/JointBERT/data/snips/dev/label')"
      ],
      "metadata": {
        "id": "M_NRGfN8iMAc"
      },
      "execution_count": null,
      "outputs": []
    },
    {
      "cell_type": "code",
      "source": [
        "test_text = read_data('/content/JointBERT/data/snips/test/seq.in')\n",
        "test_label = read_data('/content/JointBERT/data/snips/test/label')"
      ],
      "metadata": {
        "id": "Q_gG7PQGiTFF"
      },
      "execution_count": null,
      "outputs": []
    },
    {
      "cell_type": "code",
      "source": [
        "import re\n",
        "def remove_numbers(lst):\n",
        "    result = []\n",
        "    for string in lst:\n",
        "        result.append(re.sub(r'\\d+', '', string))\n",
        "    return result"
      ],
      "metadata": {
        "id": "Uqh3U_SnibZc"
      },
      "execution_count": null,
      "outputs": []
    },
    {
      "cell_type": "code",
      "source": [
        "train_text = remove_numbers(train_text)\n",
        "dev_text = remove_numbers(dev_text)\n",
        "test_text = remove_numbers(test_text)"
      ],
      "metadata": {
        "id": "RCvKh49bjRK2"
      },
      "execution_count": null,
      "outputs": []
    },
    {
      "cell_type": "code",
      "source": [
        "for i in range(len(train_label)):\n",
        "  if train_label[i]=='':\n",
        "    print(i)"
      ],
      "metadata": {
        "colab": {
          "base_uri": "https://localhost:8080/"
        },
        "id": "71RL1EfOk0Sr",
        "outputId": "21025a0b-b767-4041-d8af-02eca9394f9d"
      },
      "execution_count": null,
      "outputs": [
        {
          "output_type": "stream",
          "name": "stdout",
          "text": [
            "13084\n"
          ]
        }
      ]
    },
    {
      "cell_type": "code",
      "source": [
        "train_dict = {\n",
        "    'text' : train_text[:-1],\n",
        "    'label' : train_label[:-1]\n",
        "}\n",
        "dev_dict = {\n",
        "    'text' : dev_text[:-1],\n",
        "    'label' : dev_label[:-1]\n",
        "}\n",
        "test_dict = {\n",
        "    'text' : test_text[:-1],\n",
        "    'label' : test_label[:-1]\n",
        "}"
      ],
      "metadata": {
        "id": "kDKlbmwSkRTf"
      },
      "execution_count": null,
      "outputs": []
    },
    {
      "cell_type": "code",
      "source": [
        "import pandas as pd\n",
        "train_data = pd.DataFrame(train_dict)\n",
        "test_data = pd.DataFrame(test_dict)\n",
        "dev_data = pd.DataFrame(dev_dict)"
      ],
      "metadata": {
        "id": "fMF3qwcwjhLG"
      },
      "execution_count": null,
      "outputs": []
    },
    {
      "cell_type": "code",
      "source": [
        "train_data.label.value_counts()"
      ],
      "metadata": {
        "colab": {
          "base_uri": "https://localhost:8080/"
        },
        "id": "9vP6Nizdj1gW",
        "outputId": "8c974c79-e3de-46d6-e036-ea4abd53e1f5"
      },
      "execution_count": null,
      "outputs": [
        {
          "output_type": "execute_result",
          "data": {
            "text/plain": [
              "PlayMusic               1914\n",
              "GetWeather              1896\n",
              "BookRestaurant          1881\n",
              "RateBook                1876\n",
              "SearchScreeningEvent    1852\n",
              "SearchCreativeWork      1847\n",
              "AddToPlaylist           1818\n",
              "Name: label, dtype: int64"
            ]
          },
          "metadata": {},
          "execution_count": 22
        }
      ]
    },
    {
      "cell_type": "code",
      "source": [
        "test_data.label.value_counts()"
      ],
      "metadata": {
        "colab": {
          "base_uri": "https://localhost:8080/"
        },
        "id": "g-bggd6ckr0e",
        "outputId": "30c0fe6c-4065-4b50-f20a-ad110a09ab61"
      },
      "execution_count": null,
      "outputs": [
        {
          "output_type": "execute_result",
          "data": {
            "text/plain": [
              "AddToPlaylist           124\n",
              "SearchScreeningEvent    107\n",
              "SearchCreativeWork      107\n",
              "GetWeather              104\n",
              "BookRestaurant           92\n",
              "PlayMusic                86\n",
              "RateBook                 80\n",
              "Name: label, dtype: int64"
            ]
          },
          "metadata": {},
          "execution_count": 23
        }
      ]
    },
    {
      "cell_type": "code",
      "source": [
        "dev_data.label.value_counts()"
      ],
      "metadata": {
        "colab": {
          "base_uri": "https://localhost:8080/"
        },
        "id": "5Im-_7fklsL6",
        "outputId": "efdc08a0-3dd3-4b2c-e41e-a30dc98cc774"
      },
      "execution_count": null,
      "outputs": [
        {
          "output_type": "execute_result",
          "data": {
            "text/plain": [
              "AddToPlaylist           100\n",
              "BookRestaurant          100\n",
              "GetWeather              100\n",
              "PlayMusic               100\n",
              "RateBook                100\n",
              "SearchCreativeWork      100\n",
              "SearchScreeningEvent    100\n",
              "Name: label, dtype: int64"
            ]
          },
          "metadata": {},
          "execution_count": 24
        }
      ]
    },
    {
      "cell_type": "code",
      "source": [
        "cats = list(dev_data.label.unique())\n",
        "cat_dict = {}\n",
        "for i in range(len(cats)):\n",
        "  cat_dict[cats[i]]=i"
      ],
      "metadata": {
        "id": "0bytcGVmm4BP"
      },
      "execution_count": null,
      "outputs": []
    },
    {
      "cell_type": "code",
      "source": [
        "train_texts = list(train_data.text)\n",
        "train_labels = [cat_dict[i] for i in list(train_data.label)]\n",
        "dev_texts = list(dev_data.text)\n",
        "dev_labels = [cat_dict[i] for i in list(dev_data.label)]\n",
        "test_texts = list(test_data.text)\n",
        "test_labels = [cat_dict[i] for i in list(test_data.label)]"
      ],
      "metadata": {
        "id": "xoM8trbpmOTG"
      },
      "execution_count": null,
      "outputs": []
    },
    {
      "cell_type": "code",
      "source": [
        "len(train_texts)"
      ],
      "metadata": {
        "colab": {
          "base_uri": "https://localhost:8080/"
        },
        "id": "hXLnc-vIwx6j",
        "outputId": "24501f5f-b79e-4eda-c02e-6577badd5968"
      },
      "execution_count": null,
      "outputs": [
        {
          "output_type": "execute_result",
          "data": {
            "text/plain": [
              "13084"
            ]
          },
          "metadata": {},
          "execution_count": 27
        }
      ]
    },
    {
      "cell_type": "code",
      "source": [
        "from keras.preprocessing.text import Tokenizer\n",
        "from keras.utils import pad_sequences\n",
        "from keras.models import Sequential\n",
        "from keras.layers import Embedding, Bidirectional, LSTM, Dense\n",
        "import numpy as np\n",
        "\n",
        "# Define the maximum number of words to keep based on word frequency\n",
        "MAX_NB_WORDS = 5000\n",
        "\n",
        "# Define the maximum length of each text sequence\n",
        "MAX_SEQUENCE_LENGTH = 50\n",
        "\n",
        "# Define the size of the word embeddings\n",
        "EMBEDDING_DIM = 100\n",
        "\n",
        "# Tokenize the text\n",
        "tokenizer = Tokenizer(num_words=MAX_NB_WORDS)\n",
        "tokenizer.fit_on_texts(train_text)\n",
        "\n",
        "# Convert the text to sequences of integers\n",
        "train_sequences = tokenizer.texts_to_sequences(train_texts)\n",
        "test_sequences = tokenizer.texts_to_sequences(test_texts)\n",
        "dev_sequences = tokenizer.texts_to_sequences(dev_texts)\n",
        "\n",
        "# Pad the sequences to have the same length\n",
        "train_data = pad_sequences(train_sequences, maxlen=MAX_SEQUENCE_LENGTH)\n",
        "test_data = pad_sequences(test_sequences, maxlen=MAX_SEQUENCE_LENGTH)\n",
        "dev_data = pad_sequences(dev_sequences, maxlen=MAX_SEQUENCE_LENGTH)\n",
        "\n",
        "# Define the model architecture\n",
        "model = Sequential()\n",
        "model.add(Embedding(MAX_NB_WORDS, EMBEDDING_DIM, input_length=MAX_SEQUENCE_LENGTH))\n",
        "model.add(Bidirectional(LSTM(64)))\n",
        "model.add(Dense(7, activation='softmax'))\n",
        "\n",
        "# Compile the model\n",
        "model.compile(loss='sparse_categorical_crossentropy', optimizer='adam', metrics=['accuracy'])\n",
        "\n",
        "# Train the model\n",
        "model.fit(train_data, np.array(train_labels), validation_data=(dev_data, np.array(dev_labels)), epochs=5, batch_size=64)\n",
        "\n",
        "# Evaluate the model on the test set\n",
        "test_loss, test_acc = model.evaluate(test_data, np.array(test_labels), verbose=2)\n",
        "print('Test accuracy:', test_acc)\n"
      ],
      "metadata": {
        "colab": {
          "base_uri": "https://localhost:8080/"
        },
        "id": "txQcvrQ3uLXb",
        "outputId": "8897af09-e50f-445b-e182-fa6510436800"
      },
      "execution_count": null,
      "outputs": [
        {
          "output_type": "stream",
          "name": "stdout",
          "text": [
            "Epoch 1/5\n",
            "205/205 [==============================] - 38s 161ms/step - loss: 0.6532 - accuracy: 0.8250 - val_loss: 0.0812 - val_accuracy: 0.9800\n",
            "Epoch 2/5\n",
            "205/205 [==============================] - 33s 160ms/step - loss: 0.0595 - accuracy: 0.9855 - val_loss: 0.0470 - val_accuracy: 0.9800\n",
            "Epoch 3/5\n",
            "205/205 [==============================] - 32s 158ms/step - loss: 0.0325 - accuracy: 0.9913 - val_loss: 0.0676 - val_accuracy: 0.9771\n",
            "Epoch 4/5\n",
            "205/205 [==============================] - 35s 168ms/step - loss: 0.0199 - accuracy: 0.9951 - val_loss: 0.0455 - val_accuracy: 0.9829\n",
            "Epoch 5/5\n",
            "205/205 [==============================] - 32s 155ms/step - loss: 0.0148 - accuracy: 0.9964 - val_loss: 0.0554 - val_accuracy: 0.9814\n",
            "22/22 - 0s - loss: 0.0825 - accuracy: 0.9771 - 401ms/epoch - 18ms/step\n",
            "Test accuracy: 0.977142870426178\n"
          ]
        }
      ]
    },
    {
      "cell_type": "code",
      "source": [],
      "metadata": {
        "id": "PhQadELYyxEf"
      },
      "execution_count": null,
      "outputs": []
    }
  ]
}